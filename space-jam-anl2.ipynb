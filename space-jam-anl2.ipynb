{
 "cells": [
  {
   "cell_type": "code",
   "execution_count": 1,
   "metadata": {},
   "outputs": [],
   "source": [
    "import pandas as pd"
   ]
  },
  {
   "cell_type": "code",
   "execution_count": null,
   "metadata": {},
   "outputs": [],
   "source": [
    "# Import the CSV file and create a DataFrame.\n",
    "player_df_final = pd.read_csv('player_data_final.csv')"
   ]
  },
  {
   "cell_type": "code",
   "execution_count": null,
   "metadata": {},
   "outputs": [],
   "source": [
    "# Create a DataFrame of only Tune Squad players.\n",
    "ts_df = player_df_final.iloc[26: , :]\n",
    "ts_df\n",
    "# Import Tune Squad player names.\n",
    "ts_name_df = pd.read_csv('tune_squad.csv', sep='\\t')\n",
    "ts_name_df\n",
    "# Merge the two DataFrames.\n",
    "ts_df = pd.merge(ts_df, ts_name_df, on='ID', how='left', suffixes=('_type', '_name'))\n",
    "ts_df.head()\n",
    "# Rearrange the columns to put the ID and player_name columns next to each other.\n",
    "column_list = list(ts_df)\n",
    "\n",
    "player_name = column_list.pop()\n",
    "column_list[1] = player_name\n",
    "\n",
    "ts_df = ts_df[column_list]\n",
    "ts_df.head()\n",
    "# Create a list of only the column names we're interested in.\n",
    "game_stat_cols = list(ts_df.iloc[:, 7:-1])\n",
    "game_stat_stdevs = []\n",
    "\n",
    "# Create a list of standard deviations for each stat.\n",
    "for stat in game_stat_cols:\n",
    "    game_stat_stdevs.append(ts_df[stat].std())\n",
    "\n",
    "# Create a Series of the standard deviations, with the stat names as the index.\n",
    "stdev_s = pd.Series(game_stat_stdevs, index=game_stat_cols)\n",
    "stdev_s\n",
    "# Import the models and libraries we need.\n",
    "from sklearn.linear_model import LinearRegression\n",
    "from numpy.random import randn\n",
    "\n",
    "# Get the dependent and independent variables for modeling the PER.\n",
    "X = player_df_final.iloc[:, 7:-1].to_numpy()\n",
    "y = player_df_final.iloc[:, -1]\n",
    "# Define and fit the model.\n",
    "lin_reg = LinearRegression()\n",
    "lin_reg.fit(X, y)"
   ]
  },
  {
   "cell_type": "code",
   "execution_count": null,
   "metadata": {},
   "outputs": [],
   "source": [
    "# Print the player with the highest and lower PER for each iteration.\n",
    "print('Iteration # \\thigh PER \\tlow PER')\n",
    "\n",
    "# Run the simulation 10 times.\n",
    "for i in range(10):\n",
    "\n",
    "    # Define an empty temporary DataFrame for each iteration.\n",
    "    # The columns of this DataFrame are the player stats and the index is the players' names.\n",
    "    game_df = pd.DataFrame(columns=game_stat_cols, index=list(ts_df['player_name']))\n",
    "    \n",
    "    # Loop through each stat.\n",
    "    for stat in game_stat_cols:\n",
    "        \n",
    "        # Each player's stats are used to generate a random value for each iteration.\n",
    "        game_df[stat] = list(ts_df[stat] + randn(len(ts_df)) * stdev_s[stat])\n",
    "    \n",
    "    # Use the fitted model to predict players' PERs based on the randomized data.\n",
    "    game_df['PER'] = lin_reg.predict(game_df)\n",
    "\n",
    "    # Print the player with the highest and lower PER for each iteration.\n",
    "    print('Iteration {}'.format(i+1) + ' \\t' + game_df['PER'].idxmax() + ' \\t' + game_df['PER'].idxmin())"
   ]
  },
  {
   "cell_type": "code",
   "execution_count": null,
   "metadata": {},
   "outputs": [],
   "source": [
    "# Initialize four empty DataFrames, one for each 12-minute period.\n",
    "number_of_iterations = 4\n",
    "df_list = [pd.DataFrame(columns=game_stat_cols, index=list(ts_df['player_name'])) for i in range(number_of_iterations)]\n",
    "\n",
    "# For each period, generate randomized player data and predict the PER.\n",
    "# Use the model fitted earlier.\n",
    "for df in df_list:\n",
    "    for stat in game_stat_cols:\n",
    "        df[stat] = list(ts_df[stat] + randn(len(ts_df)) * stdev_s[stat])\n",
    "    df['PER'] = lin_reg.predict(df)\n",
    "\n",
    "# Concatenate the DataFrames and make the players' names the index.\n",
    "game_df = pd.concat(df_list)\n",
    "game_df.rename_axis('player_name', inplace=True)\n",
    "\n",
    "# Create another index for the period in question.\n",
    "minutes = [(x // len(ts_df)) * 12 for x in range(len(game_df))]\n",
    "game_df['minutes'] = minutes\n",
    "game_df.set_index('minutes', append=True, inplace=True)\n",
    "game_df = game_df.swaplevel()\n",
    "\n",
    "game_df"
   ]
  },
  {
   "cell_type": "code",
   "execution_count": null,
   "metadata": {},
   "outputs": [],
   "source": [
    "# Export the finished DataFrame to CSV.\n",
    "game_df.to_csv('game_stats.csv')"
   ]
  }
 ],
 "metadata": {
  "kernelspec": {
   "display_name": "Python 3",
   "language": "python",
   "name": "python3"
  },
  "language_info": {
   "codemirror_mode": {
    "name": "ipython",
    "version": 3
   },
   "file_extension": ".py",
   "mimetype": "text/x-python",
   "name": "python",
   "nbconvert_exporter": "python",
   "pygments_lexer": "ipython3",
   "version": "3.8.5"
  }
 },
 "nbformat": 4,
 "nbformat_minor": 2
}
